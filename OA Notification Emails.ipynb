{
 "cells": [
  {
   "cell_type": "code",
   "id": "36202ef2",
   "metadata": {},
   "source": [
    "#Giving up on Google for now because I'm tired of reading their authentification documentation\n",
    "import smtplib\n",
    "import ssl\n",
    "from email.mime.text import MIMEText\n",
    "from email.mime.multipart import MIMEMultipart\n",
    "import pandas as pd\n",
    "import numpy as np"
   ],
   "outputs": [],
   "execution_count": null
  },
  {
   "cell_type": "code",
   "id": "04d34912",
   "metadata": {},
   "source": [
    "#Testing that sending stuff with gmail works\n",
    "smtp_server = 'smtp.gmail.com'\n",
    "smtp_port = 465\n",
    "username = 'plc48reviews@gmail.com'\n",
    "password = 'awef qtii ebos vzro'\n",
    "context = ssl.create_default_context()\n",
    "\n",
    "sender_email = 'plc48reviews@gmail.com'\n",
    "receiver_email = 'aheuser@sas.upenn.edu'\n",
    "subject = 'Testing'\n",
    "message = 'Plz work\\nSent from my python'\n",
    "\n",
    "msg = MIMEMultipart()\n",
    "msg['From'] = sender_email\n",
    "msg['To'] = receiver_email\n",
    "msg['Subject'] = subject\n",
    "\n",
    "msg.attach(MIMEText(message, 'plain'))\n",
    "\n",
    "with smtplib.SMTP_SSL(smtp_server, smtp_port, context=context) as smtp:\n",
    "    smtp.login(username, password)\n",
    "    smtp.send_message(msg)"
   ],
   "outputs": [],
   "execution_count": null
  },
  {
   "cell_type": "code",
   "id": "22e0c5d5",
   "metadata": {},
   "source": [
    "author_info = pd.read_excel(\"/Users/annika/Desktop/Penn/Year2/oa_export-8.xlsx\")\n",
    "reviews_df = pd.read_excel(\"/Users/annika/Desktop/Penn/Year2/oa_export-7.xlsx\")"
   ],
   "outputs": [],
   "execution_count": null
  },
  {
   "cell_type": "code",
   "id": "2e88d03d",
   "metadata": {},
   "source": [
    "name_dict = {1:\"1st\",2:\"2nd\",3:\"3rd\",4:\"4th\",5:\"5th\",6:\"6th\",7:\"7th\",8:\"8th\",9:\"9th\",10:\"10th\"}"
   ],
   "outputs": [],
   "execution_count": null
  },
  {
   "cell_type": "code",
   "id": "706098ef",
   "metadata": {},
   "source": [
    "def get_review(n,submission):\n",
    "    name = name_dict[n]\n",
    "    if not np.isnan(submission[f\"Overall evaluation: {name} review\"]):\n",
    "        score = submission[f'Overall evaluation: {name} review']\n",
    "        review = f\"Review {n}<br>Overall evaluation: {round(score)}/5<br>\"\n",
    "        review+=f\"Comments: {submission[f'Comments: {name} review']}\"\n",
    "        return review\n",
    "    else:\n",
    "        return \"\""
   ],
   "outputs": [],
   "execution_count": null
  },
  {
   "cell_type": "code",
   "id": "d29d0c3e",
   "metadata": {},
   "source": [
    "def compile_reviews(submission):\n",
    "    review_text = \"\"\n",
    "    actual_count = 0\n",
    "    for j in range(5):\n",
    "        text_to_add = get_review(j+1,submission)\n",
    "        if text_to_add:\n",
    "            actual_count+=1\n",
    "            text_to_add+=\"<br><br>\"\n",
    "        if (actual_count != j+1) and text_to_add:\n",
    "            text_to_add = text_to_add[:7]+str(actual_count)+text_to_add[8:]\n",
    "        review_text+=text_to_add\n",
    "    return review_text"
   ],
   "outputs": [],
   "execution_count": null
  },
  {
   "cell_type": "code",
   "id": "dd6eab41",
   "metadata": {},
   "source": [
    "author_info"
   ],
   "outputs": [],
   "execution_count": null
  },
  {
   "cell_type": "code",
   "id": "e2405280",
   "metadata": {},
   "source": [
    "#Collects all author emails\n",
    "def get_author_emails(submission,author_info):\n",
    "    submission_id = submission[\"Submission Id\"]\n",
    "    #should have length 1\n",
    "    submission_authors = author_info.loc[author_info[\"Submission Id\"] == submission_id].iloc[0]\n",
    "    author_addresses = []\n",
    "    for i in range(10):\n",
    "        name = name_dict[i+1]\n",
    "        if not pd.isnull(submission_authors[f\"Email: {name} author\"]):\n",
    "            author_addresses.append(submission_authors[f\"Email: {name} author\"])\n",
    "    return author_addresses"
   ],
   "outputs": [],
   "execution_count": null
  },
  {
   "cell_type": "code",
   "id": "88414c85",
   "metadata": {},
   "source": [
    "plc_date = \"March 16-17, 2024\"\n",
    "plc_name = \"PLC48\"\n",
    "response_deadline = \"February 2\"\n",
    "talk_form_link = \"https://forms.gle/FPsWMCHu3nk1mnby9\"\n",
    "talk_text1 = f\"Thank you very much for your submission #\"\n",
    "talk_text2 =f\"We are pleased to invite you to present this work in a talk at {plc_name}. Congratulations! We provide the comments from your reviewers below.<br><br>\"\n",
    "talk_text2+=f'This year’s PLC will be taking place in person on the University of Pennsylvania’s campus. We unfortunately cannot allow authors to present over Zoom. The conference will be {plc_date}.<br><br><b>Please fill out <a href=\"{talk_form_link}\">this Google form</a> by {response_deadline}</b> to inform us that at least one author will be able to attend to present the talk in-person. If we do not hear from you, we will have to assume that you cannot come and we will offer your talk spot to someone else.<br><br>'\n",
    "talk_text2+=\"Please note that in the case that a second paper of yours has also been accepted, we ask that for the paper of which you are not the sole author, that at least one co-author presents the work with you. We would therefore appreciate it if you could also let us know which authors plan to present this work in your response.<br><br>\"\n",
    "talk_text2+=f\"We look forward to hearing from you and we really hope that {plc_name} attendees will be able to enjoy your talk in March!<br><br>\"\n",
    "talk_text2+=f\"Best,<br>{plc_name} Content Committee\""
   ],
   "outputs": [],
   "execution_count": null
  },
  {
   "cell_type": "code",
   "id": "398fb0fb",
   "metadata": {},
   "source": [
    "print(talk_text2)"
   ],
   "outputs": [],
   "execution_count": null
  },
  {
   "cell_type": "code",
   "id": "e70d414f",
   "metadata": {},
   "source": [
    "poster_form_link =  \"https://forms.gle/wBKrVLLX8wRsH1bN8\"\n",
    "poster_text1 = f\"Thank you very much for your submission #\"\n",
    "poster_text2=f\"We are pleased to invite you to present this work in a poster at {plc_name}. Congratulations! We provide the comments from your reviewers below.<br><br>\"\n",
    "poster_text2+=f'This year’s PLC will be taking place in person on the University of Pennsylvania’s campus. We unfortunately cannot allow authors to present over Zoom. The conference will be {plc_date}.<br><br><b>Please fill out <a href=\"{poster_form_link}\">this Google form</a> by {response_deadline}</b> to inform us that at least one author will be able to attend to present the poster in-person.  If we do not hear from you, we will have to assume that you cannot come and we will offer your spot to someone else.<br><br>'\n",
    "poster_text2+=\"Please note that in the case that a second paper of yours has also been accepted, we ask that for the paper of which you are not the sole author, that at least one co-author presents the work with you. We would therefore appreciate it if you could also let us know which authors plan to present this work in your response.<br><br>\"\n",
    "poster_text2+=f'Additionally, please let us know whether you would be willing to be on the waitlist for a talk via <a href=\"{poster_form_link}\">the same Google form</a>. We would let you know at least a month in advance of {plc_name} if we would like you to instead present a talk.<br><br>'\n",
    "poster_text2+=f\"We look forward to hearing from you and we really hope that {plc_name} attendees will be able to enjoy your poster presentation in March!<br><br>\"\n",
    "poster_text2+=f\"Best,<br>{plc_name} Content Committee\""
   ],
   "outputs": [],
   "execution_count": null
  },
  {
   "cell_type": "code",
   "id": "c568b970",
   "metadata": {},
   "source": [
    "print(poster_text2)"
   ],
   "outputs": [],
   "execution_count": null
  },
  {
   "cell_type": "code",
   "id": "a64cc9f0",
   "metadata": {},
   "source": [
    "#Assuming the conference is always in March\n",
    "reject_text1 = f\"We would like to thank you for your submission #\"\n",
    "reject_text2 =\"We are unfortunately unable to accept your abstract this year.  Below we include the reviewers’ comments in hopes that they may be helpful to your future work.<br><br>\"\n",
    "reject_text2+= f\"We nonetheless hope that you consider joining us at {plc_name}. It is {plc_date} on the University of Pennsylvania’s campus. Further details will be on the website in the near future. We would be delighted to see you at Penn this March!<br><br>\"\n",
    "reject_text2+=f\"Best,<br>{plc_name} Content Committee\""
   ],
   "outputs": [],
   "execution_count": null
  },
  {
   "cell_type": "code",
   "id": "d8889e17",
   "metadata": {},
   "source": [
    "print(reject_text)"
   ],
   "outputs": [],
   "execution_count": null
  },
  {
   "cell_type": "code",
   "id": "409d2ac9",
   "metadata": {},
   "source": [
    "smtp_server = 'smtp.gmail.com'\n",
    "smtp_port = 465\n",
    "username = 'plc@sas.upenn.edu'\n",
    "password = \"xrmk asom wadn usze\"\n",
    "context = ssl.create_default_context()"
   ],
   "outputs": [],
   "execution_count": null
  },
  {
   "cell_type": "code",
   "id": "5c776714",
   "metadata": {},
   "source": [
    "#Operating under the assumption that the submitter is always the corresponding author\n",
    "def send_emails(reviews_df,author_info):\n",
    "    with smtplib.SMTP_SSL(smtp_server, smtp_port, context=context) as smtp:\n",
    "        smtp.login(username, password)\n",
    "        for i in range(len(reviews_df)):\n",
    "            submission = reviews_df.iloc[i]\n",
    "            author_addresses = get_author_emails(submission,author_info)\n",
    "            decision = submission.Decision\n",
    "            id_title = f'{submission[\"Submission Id\"]}, {submission[\"Title\"]}. '\n",
    "            body_text = \"Dear author,<br><br>\"\n",
    "            if decision == \"Rejected\":\n",
    "                body_text+=reject_text1\n",
    "                body_text+=id_title\n",
    "                body_text+=reject_text2\n",
    "            elif decision == \"Accepted: Poster\":\n",
    "                body_text+=poster_text1\n",
    "                body_text+=id_title\n",
    "                body_text+=poster_text2\n",
    "            elif decision == \"Accepted: Oral\":\n",
    "                body_text+=talk_text1\n",
    "                body_text+=id_title\n",
    "                body_text+=talk_text2\n",
    "            else:\n",
    "                print(f'THIS SUBMISSION DID NOT GET A DECISION: {submission[\"Submission Id\"]}')\n",
    "            body_text+=\"<br><br><br>\"\n",
    "            body_text+=compile_reviews(submission)\n",
    "            for author_address in author_addresses:\n",
    "                msg = MIMEMultipart()\n",
    "                msg['From'] =  username\n",
    "                msg['To'] = author_address\n",
    "                msg['Subject'] = f\"PLC48 Decision Notification for Submission {submission['Submission Id']}\"\n",
    "                msg.attach(MIMEText(body_text, 'html'))\n",
    "                smtp.send_message(msg)"
   ],
   "outputs": [],
   "execution_count": null
  },
  {
   "cell_type": "code",
   "id": "70d9eda6",
   "metadata": {},
   "source": [
    "#Testing\n",
    "test_authors = pd.read_excel(\"/Users/annika/Desktop/Penn/Year2/test_authors.xlsx\")\n",
    "test_df = pd.read_excel(\"/Users/annika/Desktop/Penn/Year2/test_results.xlsx\")"
   ],
   "outputs": [],
   "execution_count": null
  },
  {
   "cell_type": "code",
   "id": "dc931de8",
   "metadata": {},
   "source": [
    "send_emails(test_df,test_authors)"
   ],
   "outputs": [],
   "execution_count": null
  },
  {
   "cell_type": "code",
   "id": "99b65db2",
   "metadata": {},
   "source": [
    "#Real deal\n",
    "reviews = pd.read_excel(\"/Users/annika/Desktop/Penn/Year2/actual_results.xlsx\")\n",
    "authors = pd.read_excel(\"/Users/annika/Desktop/Penn/Year2/autual_authors.xlsx\") #lol"
   ],
   "outputs": [],
   "execution_count": null
  },
  {
   "cell_type": "code",
   "id": "aff2adb4",
   "metadata": {},
   "source": [
    "send_emails(reviews,authors)"
   ],
   "outputs": [],
   "execution_count": null
  }
 ],
 "metadata": {
  "kernelspec": {
   "display_name": "Python 3 (ipykernel)",
   "language": "python",
   "name": "python3"
  },
  "language_info": {
   "codemirror_mode": {
    "name": "ipython",
    "version": 3
   },
   "file_extension": ".py",
   "mimetype": "text/x-python",
   "name": "python",
   "nbconvert_exporter": "python",
   "pygments_lexer": "ipython3",
   "version": "3.9.12"
  }
 },
 "nbformat": 4,
 "nbformat_minor": 5
}
